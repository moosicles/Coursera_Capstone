{
 "cells": [
  {
   "cell_type": "markdown",
   "id": "0eb286f0-1c1b-4be6-9b4a-752cff9da477",
   "metadata": {},
   "source": [
    "### Marcos Hill - Capstone Project\n",
    "*this notebook will be used for the Capstone Data Scince Project on Coursera*"
   ]
  },
  {
   "cell_type": "code",
   "execution_count": 1,
   "id": "e5d68c2c-6324-4ef6-bd2d-7256a669efd2",
   "metadata": {},
   "outputs": [
    {
     "name": "stdout",
     "output_type": "stream",
     "text": [
      "Requirement already satisfied: pandas in c:\\users\\marcos\\anaconda3\\envs\\jupyter\\lib\\site-packages (1.3.1)\n",
      "Requirement already satisfied: numpy>=1.17.3 in c:\\users\\marcos\\anaconda3\\envs\\jupyter\\lib\\site-packages (from pandas) (1.21.1)\n",
      "Requirement already satisfied: python-dateutil>=2.7.3 in c:\\users\\marcos\\anaconda3\\envs\\jupyter\\lib\\site-packages (from pandas) (2.8.2)\n",
      "Requirement already satisfied: pytz>=2017.3 in c:\\users\\marcos\\anaconda3\\envs\\jupyter\\lib\\site-packages (from pandas) (2021.1)\n",
      "Requirement already satisfied: six>=1.5 in c:\\users\\marcos\\anaconda3\\envs\\jupyter\\lib\\site-packages (from python-dateutil>=2.7.3->pandas) (1.16.0)\n",
      "Requirement already satisfied: numpy in c:\\users\\marcos\\anaconda3\\envs\\jupyter\\lib\\site-packages (1.21.1)\n"
     ]
    }
   ],
   "source": [
    "!pip install pandas\n",
    "!pip install numpy"
   ]
  },
  {
   "cell_type": "code",
   "execution_count": 2,
   "id": "a2110a30-d201-43b7-8d76-4738867101ce",
   "metadata": {},
   "outputs": [],
   "source": [
    "import pandas as pd\n",
    "import numpy as np"
   ]
  },
  {
   "cell_type": "code",
   "execution_count": 3,
   "id": "63c06d14-fa5f-4721-bb9f-e93bef30b7e1",
   "metadata": {},
   "outputs": [
    {
     "name": "stdout",
     "output_type": "stream",
     "text": [
      "Hello Captsone Project Course!\n"
     ]
    }
   ],
   "source": [
    "print(\"Hello Captsone Project Course!\")"
   ]
  },
  {
   "cell_type": "code",
   "execution_count": null,
   "id": "6ced1fcb-b5e8-4187-813f-af1fcfd32670",
   "metadata": {},
   "outputs": [],
   "source": []
  }
 ],
 "metadata": {
  "kernelspec": {
   "display_name": "Python 3 (ipykernel)",
   "language": "python",
   "name": "python3"
  },
  "language_info": {
   "codemirror_mode": {
    "name": "ipython",
    "version": 3
   },
   "file_extension": ".py",
   "mimetype": "text/x-python",
   "name": "python",
   "nbconvert_exporter": "python",
   "pygments_lexer": "ipython3",
   "version": "3.9.6"
  }
 },
 "nbformat": 4,
 "nbformat_minor": 5
}
